{
 "cells": [
  {
   "cell_type": "markdown",
   "id": "54f82546",
   "metadata": {},
   "source": [
    "Numerical Exercise #3 from Light #2.\n",
    "\n",
    "Download an optical spectrum of a luminous quasar at redshift z ~ 2.5. Identify the Lyman alpha emission line and estimate its full width half maximum in angstroms. Assuming the width is dominated by Doppler motions, what is that width in km/s? "
   ]
  },
  {
   "cell_type": "markdown",
   "id": "92a9e63e",
   "metadata": {},
   "source": [
    "My approach:\n",
    "\n",
    "Below the data used is a from a quasar ( see http://skyserver.sdss.org/dr7/en/tools/explore/obj.asp?plate=517&mjd=52024&fiber=466) with redshift z = 2.517.\n",
    "\n",
    "First I extract the full width half maximum of the Lyman alpha line using peak finding and peak width finding routines."
   ]
  },
  {
   "cell_type": "code",
   "execution_count": 1,
   "id": "5268ea63",
   "metadata": {},
   "outputs": [],
   "source": [
    "import matplotlib.pyplot as plt\n",
    "import numpy as np\n",
    "from astropy.io import fits\n",
    "from scipy.signal import find_peaks, peak_widths"
   ]
  },
  {
   "cell_type": "code",
   "execution_count": 2,
   "id": "962a71d6",
   "metadata": {},
   "outputs": [],
   "source": [
    "FILENAME  = 'spSpec-52024-0517-466.fit'\n",
    "\n",
    "\n",
    "\"\"\"\n",
    "The following is adapted from AstroML AstroML/tools/sdss_fits.py, \n",
    "see https://github.com/astroML/astroML/blob/main/astroML/datasets/tools/sdss_fits.py\n",
    "\n",
    "Tools to download and process SDSS fits files.\n",
    "More information can be found at\n",
    "http://www.sdss.org/dr7/products/spectra/index.html\n",
    "\n",
    "Data Structure: the following is copied from http://www.sdss.org/dr7/dm/flatFiles/spSpec.html\n",
    "The first row is the spectrum, the second row is the continuum subtracted spectrum, \n",
    "the third row is the noise in the spectrum (standard deviation, in the same units as the spectrum), \n",
    "the forth row is the mask array. The spectra are binned log-linear. Units are 10^(-17) erg/cm^2/s/Ang.\n",
    "\n",
    "SDSS spectra are binned in constant Log(Λ ) and the wavelength can be obtained from the header \n",
    "parameters COEFF0 and COEFF1 (or alternatively CRVAL1 and CD1_1) as follows:\n",
    "\n",
    "lambda = 10^(COEFF0 + COEFF1*i), where i denotes the (zero indexed) pixel number.\n",
    "\n",
    "\n",
    "Flags used in mask array:\n",
    "Each pixel in the MASK array (row 4) is a bit mask, with the following legal values:\n",
    " SP_MASK_OK           =  0x000,      \n",
    " SP_MASK_NOPLUG       =  0x001,      /*  Fiber not listed in plugmap file                     */\n",
    " SP_MASK_BADTRACE     =  0x002,      /*  Bad trace from routine TRACE320CRUDE                 */\n",
    " SP_MASK_BADFLAT      =  0x004,      /*  Low counts in fiberflat                              */\n",
    " SP_MASK_BADARC       =  0x008,      /*  Bad arc solution                                     */\n",
    " SP_MASK_MANYBADCOL   =  0x010,      /*  More than 10% pixels are bad columns                 */\n",
    " SP_MASK_MANYREJECT   =  0x020,      /*  More than 10% pixels are rejected in extraction      */\n",
    " SP_MASK_LARGESHIFT   =  0x040,      /*  Large spatial shift between flat and object position */\n",
    " SP_MASK_NEARBADPIX   =  0x10000,    /*  Bad pixel within 3 pixels of trace                   */\n",
    " SP_MASK_LOWFLAT      =  0x20000,    /*  Flat field less than 0.5                             */\n",
    " SP_MASK_FULLREJECT   =  0x40000,    /*  Pixel fully rejected in extraction                   */\n",
    " SP_MASK_PARTIALREJ   =  0x80000,    /*  Some pixels rejected in extraction                   */\n",
    " SP_MASK_SCATLIGHT    =  0x100000,   /*  Scattered light significant                          */\n",
    " SP_MASK_CROSSTALK    =  0x200000,   /*  Cross-talk significant                               */\n",
    " SP_MASK_NOSKY        =  0x400000,   /*  Sky level unknown at this wavelength                 */\n",
    " SP_MASK_BRIGHTSKY    =  0x800000,   /*  Sky level > flux + 10*(flux error)                   */\n",
    " SP_MASK_NODATA       =  0x1000000,  /*  No data available in combine B-spline                */\n",
    " SP_MASK_COMBINEREJ   =  0x2000000,  /*  Rejected in combine B-spline                         */\n",
    " SP_MASK_BADFLUXFACTOR=  0x4000000,  /*  Low flux-calibration or flux-correction factor       */\n",
    " SP_MASK_BADSKYCHI    =  0x8000000,  /*  Chi^2 > 4 in sky residuals at this wavelength        */\n",
    " SP_MASK_REDMONSTER   =  0x10000000, /*  Contiguous region of bad chi^2 in sky residuals      */\n",
    " SP_MASK_EMLINE       =  0x40000000  /*  Emission line detected here  \n",
    "\n",
    "\n",
    "These HDUs list the measured properties of individual emission/absorption lines in the spectrum. \n",
    "There are two HDUs of this type. The first HDU of this type (HDU 1) lists all lines found automatically \n",
    "by the wavelet filter, with no apriori knowledge of the redshift. The second HDU of this type (HDU 2) \n",
    "lists all lines measured based on their expected positions from the highest-confidence emission line redshift. \n",
    "Under most circumstances, the line measurements in HDU 2 should be used.\n",
    "\n",
    "\"\"\"\n",
    "\n",
    "\n",
    "class SDSSfits:\n",
    "    \"\"\" SDSS fits files\n",
    "    \n",
    "    Parameters\n",
    "    ----------\n",
    "    FILENAME : string \n",
    "    file path to SDSS fits file\n",
    "    Notes\n",
    "    -----\n",
    "    refer to the data description:\n",
    "    http://www.sdss.org/dr7/dm/flatFiles/spSpec.html\n",
    "    \"\"\"\n",
    "\n",
    "    def __init__(self, FILENAME):\n",
    "        self.hdulist = fits.open(FILENAME)\n",
    "        self._initialize(self.hdulist)\n",
    "        \n",
    "        \n",
    "    def _initialize(self, hdulist):\n",
    "        data = hdulist[0].data\n",
    "\n",
    "        self.name = hdulist[0].header['NAME']\n",
    "        self.spec_cln = hdulist[0].header['SPEC_CLN']\n",
    "        self.coeff0 = hdulist[0].header['COEFF0']\n",
    "        self.coeff1 = hdulist[0].header['COEFF1']\n",
    "        self.z = hdulist[0].header['Z']\n",
    "        self.zerr = hdulist[0].header['Z_ERR']\n",
    "        self.zconf = hdulist[0].header['Z_CONF']\n",
    "\n",
    "        self.spectrum = data[0] # spectrum data\n",
    "        self.spectrum_cont = data[1] \n",
    "        self.error = data[2] \n",
    "        self.mask = data[3] \n",
    "        \n",
    "        self.lines = hdulist[2].data\n",
    "\n",
    "    def get_line(self, wavelength):\n",
    "        \"\"\"\n",
    "        get the desired line's wavelength. here, the input wavelength is the desired line's vacuum wavelength\n",
    "        \"\"\"\n",
    "        index = np.where(np.abs(self.lines['restwave']-wavelength)<1)\n",
    "        xloc = self.lines['wave'][index]\n",
    "        return xloc\n",
    "\n",
    "    def wavelength(self):\n",
    "        \"\"\"\n",
    "        return the wavelength of the spectrum in angstroms\n",
    "        \"\"\"\n",
    "        return 10 ** (self.coeff0 + self.coeff1 * np.arange(len(self.spectrum)))\n",
    "    \n",
    "    def apply_mask(self):\n",
    "        \"\"\"\n",
    "        filter out \"bad\" data\n",
    "        \"\"\"\n",
    "        arr_0s = np.where(self.mask == 0)[0]\n",
    "        arr_lines = np.where(self.mask == float.fromhex('0x40000000'))[0]\n",
    "        goodlist = np.sort(np.hstack((arr_0s, arr_lines)))\n",
    "        return goodlist\n",
    "    \n",
    "    def fullwidth_halfmax(self, wavelength, select = 10, cut = 500):\n",
    "        \"\"\"\n",
    "        calculate full width half maximum in angstroms\n",
    "        \n",
    "        the strategy here is to select a small region around the desired line and search for peaks.\n",
    "        the desired line should have the largest full width half maximum in the chosen region.\n",
    "        then the full width half maximum is measured using scipy.signal.peak_widths.\n",
    "        \n",
    "        parameters\n",
    "        -----------\n",
    "        wavelength: vacuum wavelength of line at which to calculate the FWHM\n",
    "        select: select wavelength bounds for the peak search region\n",
    "        cut: a cutoff wavelength. plot the region between chosen line-cut and chosen line+cut\n",
    "        \n",
    "        returns\n",
    "        ----------\n",
    "        fwhm: the full width half maximum in angstroms of the chosen line\n",
    "        peak: the height of the fwhm of the chosen line\n",
    "        leftbound: the leftmost wavelength index of the chosen line at fwhm\n",
    "        rightbound: the rightmost wavelength index of the chosen line at fwhm\n",
    "        \"\"\"\n",
    "        x = self.spectrum_cont # the background subtracted spectrum\n",
    "        line = self.get_line(wavelength) # line wavelength\n",
    "        peaks, _ = find_peaks(x) # wavelength indices of peaks\n",
    "        results_half = peak_widths(x, peaks, rel_height=0.5)\n",
    "        wavelengths = self.wavelength()\n",
    "        index = np.where(np.abs((wavelengths-line))<0.2) # find the wavelength index of the desired line\n",
    "        index2 = np.where(np.abs(peaks-index)<1.5)[1] # find the peak index of the desired line\n",
    "        index3 = np.argsort(results_half[0][index2[0]-select:index2[0]+select])[::-1][0] # peak widths, ranked\n",
    "        fig, ax = plt.subplots()\n",
    "        plt.plot(x[index[0][0]-cut:index[0][0]+cut]) # plot the results\n",
    "        plt.vlines(index, -20, 100, color = 'r')\n",
    "        \n",
    "        height = results_half[1][index2[0]-select:index2[0]+select][index3] # height of peak at fwhm\n",
    "        leftbound = (results_half[2][index2[0]-select:index2[0]+select][index3]).astype('int') # left fwhm bound\n",
    "        rightbound = (results_half[3][index2[0]-select:index2[0]+select][index3]).astype('int') # right fwhm bound\n",
    "        fwhm = wavelengths[rightbound]-wavelengths[leftbound]\n",
    "        \n",
    "        plt.hlines(height, \\\n",
    "                   leftbound,\\\n",
    "                   rightbound, color=\"C2\")\n",
    "        \n",
    "        plt.xlabel('sample #')\n",
    "        plt.ylabel('10^(-17) erg/cm^2/s/Ang')\n",
    "        return fwhm, height, leftbound, rightbound\n",
    "    \n",
    "    def close(self):\n",
    "        self.hdulist.close()"
   ]
  },
  {
   "cell_type": "code",
   "execution_count": 3,
   "id": "b909ddb9",
   "metadata": {},
   "outputs": [],
   "source": [
    "SDSSobj = SDSSfits(FILENAME)"
   ]
  },
  {
   "cell_type": "code",
   "execution_count": 4,
   "id": "c6795397",
   "metadata": {},
   "outputs": [
    {
     "data": {
      "text/plain": [
       "<matplotlib.collections.LineCollection at 0x7fb230140c70>"
      ]
     },
     "execution_count": 4,
     "metadata": {},
     "output_type": "execute_result"
    },
    {
     "data": {
      "image/png": "[encoded data removed]",
      "text/plain": [
       "<Figure size 432x288 with 1 Axes>"
      ]
     },
     "metadata": {
      "needs_background": "light"
     },
     "output_type": "display_data"
    }
   ],
   "source": [
    "WAVELENGTH = 1215.67\n",
    "line = SDSSobj.get_line(WAVELENGTH)\n",
    "wavelengths = SDSSobj.wavelength()\n",
    "spectrum = SDSSobj.spectrum_cont\n",
    "plt.plot(wavelengths,spectrum)\n",
    "plt.vlines(line, -20,100, color = 'r')"
   ]
  },
  {
   "cell_type": "code",
   "execution_count": 5,
   "id": "8f82fb30",
   "metadata": {},
   "outputs": [
    {
     "data": {
      "image/png": "[encoded data removed]",
      "text/plain": [
       "<Figure size 432x288 with 1 Axes>"
      ]
     },
     "metadata": {
      "needs_background": "light"
     },
     "output_type": "display_data"
    }
   ],
   "source": [
    "fwhm, height, leftbound, rightbound = SDSSobj.fullwidth_halfmax(WAVELENGTH)\n",
    "SDSSobj.close()"
   ]
  },
  {
   "cell_type": "code",
   "execution_count": 6,
   "id": "33fb4395",
   "metadata": {},
   "outputs": [
    {
     "data": {
      "image/png": "[encoded data removed]",
      "text/plain": [
       "<Figure size 432x288 with 1 Axes>"
      ]
     },
     "metadata": {
      "needs_background": "light"
     },
     "output_type": "display_data"
    }
   ],
   "source": [
    "fig, ax = plt.subplots()\n",
    "plt.plot(wavelengths, spectrum)\n",
    "plt.hlines(height, wavelengths[leftbound],wavelengths[rightbound],color=\"black\")\n",
    "plt.vlines(line, -20, 100, color = 'r')\n",
    "plt.xlim(line-500, line+500)\n",
    "plt.xlabel('wavelength (Ang)')\n",
    "plt.ylabel('10^(-17) erg/cm^2/s/Ang')\n",
    "plt.title(f'FWHM = {np.around(fwhm,2)} Ang')\n",
    "plt.show()"
   ]
  },
  {
   "cell_type": "markdown",
   "id": "db587fa4",
   "metadata": {},
   "source": [
    "### Calculating the quasar speed with respect to the observer\n",
    "\n",
    "We now have the full width half maximum of the Lyman alpha line in angstroms. Now we want to find what range of quasar speeds (with respect to the observer) that width corresponds to. The spectral lines of the quasar's spectrum have width because the quasar is moving with respect to us, therefore redshifting/blueshifting its spectrum depending on what rotation the quasar is doing with respect to us. \n",
    "\n",
    "So the width of the quasar's spectral lines can tell us the change in frequency due to its motion with respect to the observer. Using the doppler effect, we can turn that frequency shift into a relative velocity for the quasar.\n",
    "\n",
    "So use $\\Delta f={\\frac {\\Delta v}{c}}f_{0}$ and find the relative velocity $\\Delta v$."
   ]
  },
  {
   "cell_type": "code",
   "execution_count": 7,
   "id": "9ad9517c",
   "metadata": {},
   "outputs": [],
   "source": [
    "min_wavelength = wavelengths[leftbound]\n",
    "max_wavelength = wavelengths[rightbound]\n",
    "c = 3*10**8\n",
    "max_freq = c/(max_wavelength*10**-10) #1/s\n",
    "min_freq = c/(min_wavelength*10**-10) #1/2\n",
    "f0 = c/(line[0]*10**-10)\n",
    "deltaf_max = max_freq - f0\n",
    "deltav_max = c*deltaf_max/f0\n",
    "deltaf_min = min_freq - f0\n",
    "deltav_min = c*deltaf_min/f0"
   ]
  },
  {
   "cell_type": "code",
   "execution_count": 8,
   "id": "797f2fe1",
   "metadata": {},
   "outputs": [
    {
     "data": {
      "text/plain": [
       "-1581.3237582612937"
      ]
     },
     "execution_count": 8,
     "metadata": {},
     "output_type": "execute_result"
    }
   ],
   "source": [
    "deltav_max*10**-3"
   ]
  },
  {
   "cell_type": "code",
   "execution_count": 9,
   "id": "e8487f07",
   "metadata": {},
   "outputs": [
    {
     "data": {
      "text/plain": [
       "1943.7187603937446"
      ]
     },
     "execution_count": 9,
     "metadata": {},
     "output_type": "execute_result"
    }
   ],
   "source": [
    "deltav_min*10**-3"
   ]
  },
  {
   "cell_type": "code",
   "execution_count": 10,
   "id": "d0a25153",
   "metadata": {},
   "outputs": [
    {
     "name": "stdout",
     "output_type": "stream",
     "text": [
      "quasar speed relative to the observer is between -1581.32 and 1943.72 km/s\n"
     ]
    }
   ],
   "source": [
    "#positive: quasar is moving away from observer\n",
    "#negative: quasar is moving toward observer\n",
    "print(f'quasar speed relative to the observer is between {np.around(deltav_max*10**-3,2)} and {np.around(deltav_min*10**-3,2)} km/s')"
   ]
  },
  {
   "cell_type": "code",
   "execution_count": null,
   "id": "8fcdcbb3",
   "metadata": {},
   "outputs": [],
   "source": []
  }
 ],
 "metadata": {
  "kernelspec": {
   "display_name": "Python 3",
   "language": "python",
   "name": "python3"
  },
  "language_info": {
   "codemirror_mode": {
    "name": "ipython",
    "version": 3
   },
   "file_extension": ".py",
   "mimetype": "text/x-python",
   "name": "python",
   "nbconvert_exporter": "python",
   "pygments_lexer": "ipython3",
   "version": "3.8.8"
  }
 },
 "nbformat": 4,
 "nbformat_minor": 5
}
