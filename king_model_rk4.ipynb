{
 "cells": [
  {
   "cell_type": "markdown",
   "id": "9fdd47cd",
   "metadata": {},
   "source": [
    "### Extragalactic Astrophysics Exercise 7: Find the density profiles of the lowered isothermal (King) model\n",
    "\n",
    "In the following, I use the notation from Binney and Tremaine Chapter 4. \n",
    "\n",
    "#### Part 1: How to find the density in a spherically symmetric potential.\n",
    "A function of the phase space coordinates $I(\\vec{x}, \\vec{v})$ is an integral of motion iff $\\frac{d}{dt}I(\\vec{x}, \\vec{v}) = 0$.\n",
    "\n",
    "The collisionless Boltzmann equation is \n",
    "\n",
    "### $\\frac{\\partial f}{\\partial t}+\\vec{v}\\cdot\\frac{\\partial f}{\\partial\\vec{x}}-\\frac{\\partial\\Phi}{\\partial\\vec{x}}\\cdot\\frac{\\partial f}{\\partial \\vec{v}} = 0$.\n",
    "\n",
    "where $f$ is a distribution function such that $\\int d^3\\vec{x}d^3\\vec{v} f(\\vec{x}, \\vec{v}, t) = 1$.\n",
    "\n",
    "Note that any integral of motion is a steady state solution of the collisionless Boltzmann equation (CBE):\n",
    "\n",
    "### $\\frac{dI}{dt} = \\frac{\\partial I}{\\partial \\vec{x}}\\cdot\\frac{\\partial \\vec{x}}{\\partial \\vec{t}}+ \\frac{\\partial I}{\\partial \\vec{v}}\\cdot\\frac{\\partial \\vec{v}}{\\partial \\vec{t}} = 0$\n",
    "\n",
    "so\n",
    "\n",
    "### $\\vec{v}\\cdot\\frac{\\partial I}{\\partial \\vec{x}}- \\frac{\\partial \\Phi}{\\partial \\vec{x}}\\cdot\\frac{\\partial I}{\\partial \\vec{v}} = 0$\n",
    "\n",
    "where $\\Phi(\\vec{x})$ is a potential.\n",
    "\n",
    "The Jeans theorem: Any steady state solution of the CBE depends on phase space coordinates only through integrals of motion. Any function of integrals of motion yields a steady-state solution of the CBE.\n",
    "\n",
    "In any steady state potential $\\Psi(\\vec{x})$, the Hamiltonian $H = \\frac{1}{2}v^2+\\Psi(\\vec{x})$ is an integral of motion. Define the energy $E = \\Psi-\\frac{1}{2}v^2$. Note the sign convention here: for the system to be bound, the Lagrangian $\\mathcal{L} = T-\\Psi$ must be negative. We make $E$ the negative of this Lagrangian to make the following calculations easier, following the convention of B+T.\n",
    "\n",
    "Now consider a spherically symmetric potential. Assume that $\\Psi$ obeys the Poisson equation $\\nabla^2\\Psi(\\vec{x}) = -4\\pi G\\rho$. Then the radial equation for $\\Psi$ is \n",
    "\n",
    "### $\\frac{1}{r^2}\\frac{d}{dr}(r^2\\frac{d\\Psi}{dr}) = -4\\pi G\\int d^3\\vec{v} f(\\Psi-\\frac{1}{2}v^2)$\n",
    "\n",
    "where we redefine the normalization of $f$ such that its integrals over phase space are in units of mass.\n",
    "\n",
    "The steps to finding the density $\\rho(r)$ in a spherically symmetric potential are as follows:\n",
    "\n",
    "1) Find $\\rho$. \n",
    "\n",
    "### $\\rho(r) = \\int d^3\\vec{v}f(\\Psi-\\frac{1}{2}v^2) = 4\\pi\\int_0^{v_{max}}dv v^2 f(E)$.\n",
    "\n",
    "where $v_{max}$ is at $E = 0$, so $v_{max} = \\sqrt(2\\Psi)$.\n",
    "\n",
    "2) Plug $\\rho(r)$ into the radial equation and integrate outwards from $r=0$ until $\\Psi(r_t) = 0$. This maximum radius is known as the tidal radius. \n",
    "\n",
    "#### Part 2: Finding the analytical density expression.\n",
    "\n",
    "We have a density function \n",
    "\n",
    "### \\begin{equation}\n",
    "f(E) = \\begin{cases}\n",
    "\\rho_1(2\\pi\\sigma^2)^{-3/2}(e^{E/\\sigma^2}-1),\\text{ } E>0\\\\\n",
    "0, \\text{ otherwise}\n",
    "\\end{cases}\n",
    "\\end{equation}\n",
    "\n",
    "We need to calculate $\\rho(r) = 4\\pi\\int_0^{v_{max}}dv v^2 f(E)$.\n",
    "\n",
    "Recall that $\\text{erf}(z) = \\frac{2}{\\sqrt{\\pi}}\\int_0^z e^{-t^2}dt$.\n",
    "\n",
    "We have \n",
    "\n",
    "### $\\rho(r) = 4\\pi\\rho_1(2\\pi\\sigma^2)^{-3/2}\\bigg[-\\int_0^{\\sqrt{2\\Psi}}dv v^2+e^{\\Psi/\\sigma^2}\\int_0^{\\sqrt{2\\Psi}}dvv^2e^{-\\frac{v^2}{2\\sigma^2}}\\bigg]$\n",
    "\n",
    "Now integrate by parts, using $U = v$ and $dV = e^{-\\frac{v^2}{2\\sigma^2}}vdv$ such that $V = \\int e^{-\\frac{v^2}{2\\sigma^2}}vdv$. This integral can be solved by substituting $t = \\frac{1}{2}\\frac{v^2}{\\sigma^2}$ such that $dv = \\frac{\\sigma^2 dt}{v}$ and $V = -\\sigma^2 e^{-\\frac{v^2}{2\\sigma^2}}$. Then \n",
    "\n",
    "### $UV\\bigg|_0^{\\sqrt{2\\Psi}} = -\\sqrt{2\\Psi}\\sigma^2e^{-\\Psi/\\sigma^2}$.\n",
    "\n",
    "Finishing the integration by parts, $\\int_0^{\\sqrt{2\\Psi}}VdU = \\int_0^{\\sqrt{2\\Psi}}-\\sigma^2e^{-\\frac{v^2}{2\\sigma^2}} dv$ yields\n",
    "\n",
    "### $\\int_0^{\\sqrt{2\\Psi}}VdU = -\\sigma^3\\sqrt{\\frac{\\pi}{2}}\\text{erf}(\\frac{\\sqrt{\\Psi}}{\\sigma})$\n",
    "\n",
    "where I have used the substitution $-t^2 = -\\frac{1}{2}\\frac{v^2}{\\sigma^2}$.\n",
    "\n",
    "Putting these components together in $\\int UDV = UV-\\int VDU$ and rearranging terms, we get\n",
    "\n",
    "### $\\rho(r) = \\rho_1\\left[-\\sqrt{\\frac{4\\Psi}{\\pi\\sigma^2}}\\bigg(1+\\frac{2\\Psi}{3\\sigma^2}\\bigg)+e^{\\Psi/\\sigma^2}\\text{erf}\\bigg(\\frac{\\sqrt{\\Psi}}{\\sigma}\\bigg)\\right]$.\n",
    "\n",
    "#### Part 3: Finding the analytical density expression.\n",
    "\n",
    "Plugging $\\rho(r)$ into the radial equation for $\\Psi$, we get\n",
    "\n",
    "### $\\frac{d^2\\Psi}{dr^2} = -4\\pi G\\rho_1\\left[e^{\\Psi/\\sigma^2}\\text{erf}\\bigg(\\frac{\\sqrt{\\Psi}}{\\sigma}\\bigg)-\\sqrt{\\frac{4\\Psi}{\\pi\\sigma^2}}\\bigg(1+\\frac{2\\Psi}{3\\sigma^2}\\bigg)\\right]-\\frac{2}{r}\\frac{d\\Psi}{dr}$.\n",
    "\n",
    "To perform the integration, I recast this differential equation in terms of the nondimensional quantities $r'^2 = \\frac{4\\pi G\\rho_1}{\\sigma^2}r^2$ and $\\Psi' = \\frac{\\Psi}{\\sigma^2}$, yielding \n",
    "\n",
    "### $\\frac{d^2\\Psi'}{dr'^2} = \\left[e^{\\Psi'}\\text{erf}\\bigg(\\sqrt{\\Psi'}\\bigg)-\\sqrt{\\frac{4\\Psi'}{\\pi}}\\bigg(1+\\frac{2\\Psi'}{3}\\bigg)\\right]-\\frac{2}{r'}\\frac{d\\Psi'}{dr'}$.\n",
    "\n",
    "I then proceed via RK4, making sure to set $\\frac{d\\Psi}{dr}(r=0) = 0$ as required by King models, and terminating the integration as soon as $\\Psi\\sim 0$. I set $\\Psi(r=0)$ to $3\\sigma^2, 6\\sigma^2, 9\\sigma^2, 12\\sigma^2$ to compare to the Figure 4.8 in B+T. The resulting density profiles look somewhat similar to those presented in B+T. It looks like I did the non-dimensionalization a bit differently, and perhaps my numerical integration is not as sophisticated."
   ]
  },
  {
   "cell_type": "code",
   "execution_count": 1,
   "id": "b36268eb",
   "metadata": {},
   "outputs": [],
   "source": [
    "import numpy as np\n",
    "import matplotlib.pyplot as plt\n",
    "from scipy import special\n",
    "from dataclasses import dataclass"
   ]
  },
  {
   "cell_type": "code",
   "execution_count": 2,
   "id": "d170a12c",
   "metadata": {},
   "outputs": [],
   "source": [
    "def RungeKuttaCoupled(t, v, x, dt, dvdt, dxdt):\n",
    "    \"\"\"Integrate coupled differential equations dv(t)/dt = dvdt(t, v, x) and dx(t)/dt = v(t) = dxdt(t, v, x).\n",
    "    Outputs t, v(t), x(t). \n",
    "    \"\"\"\n",
    "    \n",
    "    k1 = dt*dvdt(t, v, x)\n",
    "    h1 = dt*dxdt(t, v, x)\n",
    "    k2 = dt*dvdt(t+dt/2., v+k1/2., x+h1/2.)\n",
    "    h2 = dt*dxdt(t+dt/2., v+k1/2., x+h1/2.)\n",
    "    k3 = dt*dvdt(t+dt/2., v+k2/2., x+h2/2.)\n",
    "    h3 = dt*dxdt(t+dt/2., v+k2/2., x+h2/2.)\n",
    "    k4 = dt*dvdt(t+dt, v+k3, x+h3)\n",
    "    h4 = dt*dxdt(t+dt, v+k3, x+h3)\n",
    "\n",
    "    v = v + 1./6.*(k1+2*k2+2*k3+k4)\n",
    "    x = x + 1./6.*(h1+2*h2+2*h3+h4)\n",
    "    t = t + dt\n",
    "    \n",
    "    return t, v, x\n",
    "\n",
    "def density(r, x):\n",
    "    \"\"\"Calculate the density psi(r) according to the King model\"\"\"\n",
    "    sigma = 1\n",
    "    return np.exp(x/sigma**2)*special.erf(np.sqrt(x)/sigma)-\\\n",
    "                np.sqrt(4*x/(np.pi*sigma**2))*(1+2*x/(3*sigma**2))\n",
    "\n",
    "def dvdr(r, v, x):\n",
    "    \"\"\"Calculates d^2psi/dr^2\"\"\"\n",
    "    C = 1\n",
    "    sigma=1\n",
    "    return -C*(density(r,x))-2/r*v\n",
    "\n",
    "def dxdr(r, v, x):\n",
    "    \"\"\"Calculates dpsi/dr\"\"\"\n",
    "    return v\n",
    "\n"
   ]
  },
  {
   "cell_type": "markdown",
   "id": "8234d2d4",
   "metadata": {},
   "source": [
    "### First I test the RK4 to make sure it's working okay"
   ]
  },
  {
   "cell_type": "code",
   "execution_count": 3,
   "id": "e659afca",
   "metadata": {},
   "outputs": [],
   "source": [
    "# test the RK4:\n",
    "K = 0.01\n",
    "\n",
    "def test_dvdt(t, v, x):\n",
    "    return -K*x\n",
    "\n",
    "def test_dxdt(t, v, x):\n",
    "    return v\n",
    "\n",
    "def test_run_RK4():\n",
    "    \"\"\"integrate the radial equation for psi(r)\"\"\"\n",
    "    r = 0.\n",
    "    v = 0.\n",
    "    x = 1.\n",
    "    dr = 0.01\n",
    "        \n",
    "    r_list = [r]\n",
    "    v_list = [v]\n",
    "    x_list = [x]\n",
    "\n",
    "    r_end = 1000\n",
    "        \n",
    "    while r < r_end: #termination condition\n",
    "\n",
    "        r, v, x = RungeKuttaCoupled(r, v, x, dr, test_dvdt, test_dxdt)\n",
    "\n",
    "        r_list.append(r)\n",
    "        v_list.append(v)\n",
    "        x_list.append(x)\n",
    "    return r_list, x_list"
   ]
  },
  {
   "cell_type": "code",
   "execution_count": 4,
   "id": "d5837d27",
   "metadata": {},
   "outputs": [
    {
     "data": {
      "text/plain": [
       "<matplotlib.legend.Legend at 0x7f24aa77dd60>"
      ]
     },
     "execution_count": 4,
     "metadata": {},
     "output_type": "execute_result"
    },
    {
     "data": {
      "image/png": "[encoded data removed]",
      "text/plain": [
       "<Figure size 432x288 with 1 Axes>"
      ]
     },
     "metadata": {
      "needs_background": "light"
     },
     "output_type": "display_data"
    }
   ],
   "source": [
    "r, x = test_run_RK4()\n",
    "plt.plot(r,x, '.', alpha = 0.2, color = 'deeppink', label = 'RK4')\n",
    "plt.plot(r, np.cos(np.sqrt(K)*np.array(r)), color = 'black', label = 'analytical')\n",
    "plt.ylim(-2,2)\n",
    "plt.legend()"
   ]
  },
  {
   "cell_type": "markdown",
   "id": "aa55c26d",
   "metadata": {},
   "source": [
    "### Then I implement the King model and find the density"
   ]
  },
  {
   "cell_type": "code",
   "execution_count": 5,
   "id": "fcdd511f",
   "metadata": {},
   "outputs": [],
   "source": [
    "@dataclass\n",
    "class kingModel:\n",
    "    \"\"\"Class for calculating potential for King model.\"\"\"\n",
    "    r0: float = 1e-32 # initial radius, this is not 0 because the 1/r term would diverge\n",
    "    v0: float = 0. # initial dPsi/dr is 0 in King models\n",
    "    dr: float = 0.001 # radius integration step\n",
    "    epsilon: float = 1e-32 # termination tolerance: is Psi<epsilon, stop the integration.\n",
    "    \n",
    "    def run_RK4(self, x0):\n",
    "        \"\"\"integrate the radial equation for psi(r)\"\"\"\n",
    "        r = self.r0\n",
    "        v = self.v0\n",
    "        x = x0\n",
    "        \n",
    "        r_list = [r]\n",
    "        v_list = [v]\n",
    "        x_list = [x]\n",
    "\n",
    "        epsilon = 1e-32\n",
    "        \n",
    "        while x > self.epsilon: #termination condition\n",
    "\n",
    "            r, v, x = RungeKuttaCoupled(r, v, x, self.dr, dvdr, dxdr)\n",
    "\n",
    "            r_list.append(r)\n",
    "            v_list.append(v)\n",
    "            x_list.append(x)\n",
    "        return r_list, x_list\n",
    "    \n",
    "    def calc_density(self, x0):\n",
    "        \"\"\" calculate the density rho(r)/rho_1\"\"\"\n",
    "        r_list, x_list = self.run_RK4(x0)\n",
    "        return np.array(r_list), density(np.array(r_list), np.array(x_list))\n",
    "        \n",
    "        "
   ]
  },
  {
   "cell_type": "code",
   "execution_count": 6,
   "id": "68bc4156",
   "metadata": {},
   "outputs": [
    {
     "name": "stderr",
     "output_type": "stream",
     "text": [
      "<ipython-input-2-16a506b37cc1>:24: RuntimeWarning: invalid value encountered in sqrt\n",
      "  return np.exp(x/sigma**2)*special.erf(np.sqrt(x)/sigma)-\\\n",
      "<ipython-input-2-16a506b37cc1>:25: RuntimeWarning: invalid value encountered in sqrt\n",
      "  np.sqrt(4*x/(np.pi*sigma**2))*(1+2*x/(3*sigma**2))\n"
     ]
    },
    {
     "data": {
      "text/plain": [
       "<matplotlib.legend.Legend at 0x7f24a95d3040>"
      ]
     },
     "execution_count": 6,
     "metadata": {},
     "output_type": "execute_result"
    },
    {
     "data": {
      "image/png": "[encoded data removed]",
      "text/plain": [
       "<Figure size 432x288 with 1 Axes>"
      ]
     },
     "metadata": {
      "needs_background": "light"
     },
     "output_type": "display_data"
    }
   ],
   "source": [
    "King = kingModel()\n",
    "x0_list = [3,6,9, 12]\n",
    "colors = ['dodgerblue', 'darkorchid', 'red', 'orange']\n",
    "for i,x0 in enumerate(x0_list):\n",
    "    r_list, x_list = King.run_RK4(x0)\n",
    "    plt.plot(r_list, x_list, label=f'$\\Psi = ${x0}$\\sigma^2$', color = colors[i])\n",
    "    plt.xlabel(r'$\\sqrt{\\frac{4\\pi G\\rho_1}{\\sigma^2}}r$', fontsize=20)\n",
    "    plt.ylabel(r'$\\frac{\\Psi}{\\sigma^2}$', fontsize = 20)\n",
    "plt.legend(loc=\"best\")"
   ]
  },
  {
   "cell_type": "code",
   "execution_count": 7,
   "id": "5862cccd",
   "metadata": {},
   "outputs": [
    {
     "name": "stderr",
     "output_type": "stream",
     "text": [
      "<ipython-input-2-16a506b37cc1>:24: RuntimeWarning: invalid value encountered in sqrt\n",
      "  return np.exp(x/sigma**2)*special.erf(np.sqrt(x)/sigma)-\\\n",
      "<ipython-input-2-16a506b37cc1>:25: RuntimeWarning: invalid value encountered in sqrt\n",
      "  np.sqrt(4*x/(np.pi*sigma**2))*(1+2*x/(3*sigma**2))\n",
      "<ipython-input-2-16a506b37cc1>:24: RuntimeWarning: invalid value encountered in sqrt\n",
      "  return np.exp(x/sigma**2)*special.erf(np.sqrt(x)/sigma)-\\\n",
      "<ipython-input-2-16a506b37cc1>:25: RuntimeWarning: invalid value encountered in sqrt\n",
      "  np.sqrt(4*x/(np.pi*sigma**2))*(1+2*x/(3*sigma**2))\n",
      "<ipython-input-2-16a506b37cc1>:24: RuntimeWarning: invalid value encountered in sqrt\n",
      "  return np.exp(x/sigma**2)*special.erf(np.sqrt(x)/sigma)-\\\n",
      "<ipython-input-2-16a506b37cc1>:25: RuntimeWarning: invalid value encountered in sqrt\n",
      "  np.sqrt(4*x/(np.pi*sigma**2))*(1+2*x/(3*sigma**2))\n",
      "<ipython-input-2-16a506b37cc1>:24: RuntimeWarning: invalid value encountered in sqrt\n",
      "  return np.exp(x/sigma**2)*special.erf(np.sqrt(x)/sigma)-\\\n",
      "<ipython-input-2-16a506b37cc1>:25: RuntimeWarning: invalid value encountered in sqrt\n",
      "  np.sqrt(4*x/(np.pi*sigma**2))*(1+2*x/(3*sigma**2))\n"
     ]
    },
    {
     "data": {
      "text/plain": [
       "<matplotlib.legend.Legend at 0x7f24a9328520>"
      ]
     },
     "execution_count": 7,
     "metadata": {},
     "output_type": "execute_result"
    },
    {
     "data": {
      "image/png": "[encoded data removed]",
      "text/plain": [
       "<Figure size 432x288 with 1 Axes>"
      ]
     },
     "metadata": {
      "needs_background": "light"
     },
     "output_type": "display_data"
    }
   ],
   "source": [
    "x0_list = [3,6,9, 12]\n",
    "colors = ['dodgerblue', 'darkorchid', 'red', 'orange']\n",
    "for i,x0 in enumerate(x0_list):\n",
    "    x_list, density_list = King.calc_density(x0)\n",
    "    plt.loglog(x_list, density_list, label=f'$\\Psi(0) = ${x0}$\\sigma^2$', color = colors[i])\n",
    "    plt.xlabel(r'$\\sqrt{\\frac{4\\pi G\\rho_1}{\\sigma^2}}r$', fontsize=20)\n",
    "    plt.ylabel(r'$\\frac{\\rho}{\\rho_1}$', fontsize = 20)\n",
    "plt.legend(loc=\"best\")"
   ]
  },
  {
   "cell_type": "code",
   "execution_count": null,
   "id": "6b768089",
   "metadata": {},
   "outputs": [],
   "source": []
  },
  {
   "cell_type": "code",
   "execution_count": null,
   "id": "f56d69ed",
   "metadata": {},
   "outputs": [],
   "source": []
  }
 ],
 "metadata": {
  "kernelspec": {
   "display_name": "Python 3",
   "language": "python",
   "name": "python3"
  },
  "language_info": {
   "codemirror_mode": {
    "name": "ipython",
    "version": 3
   },
   "file_extension": ".py",
   "mimetype": "text/x-python",
   "name": "python",
   "nbconvert_exporter": "python",
   "pygments_lexer": "ipython3",
   "version": "3.8.8"
  }
 },
 "nbformat": 4,
 "nbformat_minor": 5
}
